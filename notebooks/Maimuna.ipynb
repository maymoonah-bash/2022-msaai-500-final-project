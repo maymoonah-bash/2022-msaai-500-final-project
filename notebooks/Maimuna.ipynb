{
 "cells": [
  {
   "cell_type": "code",
   "execution_count": null,
   "metadata": {},
   "outputs": [],
   "source": [
    "#----------------------------------------------------\n",
    "def drive_weels(value):\n",
    "    driveWeels = \"4x4\"\n",
    "    cleanData = re.sub(driveWeels, \"Front-Rear\", value)\n",
    "    return cleanData\n",
    "\n",
    "def doors(value):\n",
    "    One = \"4-May\"\n",
    "    Two = \"2-Mar\"\n",
    "    Three = \">5\"\n",
    "    cleanData = re.sub(One, \"4-5\", value) # if there is \"4-May\" replace it with \"4-5\"\n",
    "    cleanDataTwo = re.sub(Two, \"2-3\", cleanData) # if there is \"2-Mar\" replace it with \"2-3\"\n",
    "    cleanDataTree = re.sub(Three, \"5+\", cleanDataTwo) # if there is \">5\" replace it with \"5+\"\n",
    "    return cleanDataTree\n",
    "#----------------------------------------------------"
   ]
  },
  {
   "cell_type": "markdown",
   "metadata": {},
   "source": [
    "cleaned drive weels and doors\n",
    "the remaining data dont nedd cleaning"
   ]
  }
 ],
 "metadata": {
  "kernelspec": {
   "display_name": "Python 3.10.7 64-bit (microsoft store)",
   "language": "python",
   "name": "python3"
  },
  "language_info": {
   "name": "python",
   "version": "3.10.7"
  },
  "orig_nbformat": 4,
  "vscode": {
   "interpreter": {
    "hash": "3b7e9cb8e453d6cda0fe8c8dd13f891a1f09162f0e7c66ffeae7751a7aecf00d"
   }
  }
 },
 "nbformat": 4,
 "nbformat_minor": 2
}
